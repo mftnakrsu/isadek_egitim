{
 "cells": [
  {
   "cell_type": "code",
   "execution_count": 1,
   "id": "3ae496eb-7b91-4835-922e-5bec8f5c1c14",
   "metadata": {},
   "outputs": [],
   "source": [
    "from sklearn.datasets import fetch_california_housing\n",
    "housing = fetch_california_housing()"
   ]
  },
  {
   "cell_type": "code",
   "execution_count": 2,
   "id": "fe1b787e-05f9-40ec-8095-1951e311ab16",
   "metadata": {},
   "outputs": [],
   "source": [
    "from sklearn.model_selection import train_test_split\n"
   ]
  },
  {
   "cell_type": "code",
   "execution_count": 3,
   "id": "7294a3c4-5c6e-4755-a03e-1162a44adf68",
   "metadata": {},
   "outputs": [],
   "source": [
    "bagimsiz_degiken = housing['data']"
   ]
  },
  {
   "cell_type": "code",
   "execution_count": 4,
   "id": "9701765a-3e22-4030-ad1b-484d1fb02e15",
   "metadata": {},
   "outputs": [
    {
     "data": {
      "text/plain": [
       "['MedInc',\n",
       " 'HouseAge',\n",
       " 'AveRooms',\n",
       " 'AveBedrms',\n",
       " 'Population',\n",
       " 'AveOccup',\n",
       " 'Latitude',\n",
       " 'Longitude']"
      ]
     },
     "execution_count": 4,
     "metadata": {},
     "output_type": "execute_result"
    }
   ],
   "source": [
    "housing['feature_names']\n"
   ]
  },
  {
   "cell_type": "code",
   "execution_count": 5,
   "id": "206af2fb-581b-46e6-b826-5a259d7240e6",
   "metadata": {},
   "outputs": [
    {
     "data": {
      "text/plain": [
       "{'data': array([[   8.3252    ,   41.        ,    6.98412698, ...,    2.55555556,\n",
       "           37.88      , -122.23      ],\n",
       "        [   8.3014    ,   21.        ,    6.23813708, ...,    2.10984183,\n",
       "           37.86      , -122.22      ],\n",
       "        [   7.2574    ,   52.        ,    8.28813559, ...,    2.80225989,\n",
       "           37.85      , -122.24      ],\n",
       "        ...,\n",
       "        [   1.7       ,   17.        ,    5.20554273, ...,    2.3256351 ,\n",
       "           39.43      , -121.22      ],\n",
       "        [   1.8672    ,   18.        ,    5.32951289, ...,    2.12320917,\n",
       "           39.43      , -121.32      ],\n",
       "        [   2.3886    ,   16.        ,    5.25471698, ...,    2.61698113,\n",
       "           39.37      , -121.24      ]]),\n",
       " 'target': array([4.526, 3.585, 3.521, ..., 0.923, 0.847, 0.894]),\n",
       " 'frame': None,\n",
       " 'target_names': ['MedHouseVal'],\n",
       " 'feature_names': ['MedInc',\n",
       "  'HouseAge',\n",
       "  'AveRooms',\n",
       "  'AveBedrms',\n",
       "  'Population',\n",
       "  'AveOccup',\n",
       "  'Latitude',\n",
       "  'Longitude'],\n",
       " 'DESCR': '.. _california_housing_dataset:\\n\\nCalifornia Housing dataset\\n--------------------------\\n\\n**Data Set Characteristics:**\\n\\n    :Number of Instances: 20640\\n\\n    :Number of Attributes: 8 numeric, predictive attributes and the target\\n\\n    :Attribute Information:\\n        - MedInc        median income in block group\\n        - HouseAge      median house age in block group\\n        - AveRooms      average number of rooms per household\\n        - AveBedrms     average number of bedrooms per household\\n        - Population    block group population\\n        - AveOccup      average number of household members\\n        - Latitude      block group latitude\\n        - Longitude     block group longitude\\n\\n    :Missing Attribute Values: None\\n\\nThis dataset was obtained from the StatLib repository.\\nhttps://www.dcc.fc.up.pt/~ltorgo/Regression/cal_housing.html\\n\\nThe target variable is the median house value for California districts,\\nexpressed in hundreds of thousands of dollars ($100,000).\\n\\nThis dataset was derived from the 1990 U.S. census, using one row per census\\nblock group. A block group is the smallest geographical unit for which the U.S.\\nCensus Bureau publishes sample data (a block group typically has a population\\nof 600 to 3,000 people).\\n\\nAn household is a group of people residing within a home. Since the average\\nnumber of rooms and bedrooms in this dataset are provided per household, these\\ncolumns may take surpinsingly large values for block groups with few households\\nand many empty houses, such as vacation resorts.\\n\\nIt can be downloaded/loaded using the\\n:func:`sklearn.datasets.fetch_california_housing` function.\\n\\n.. topic:: References\\n\\n    - Pace, R. Kelley and Ronald Barry, Sparse Spatial Autoregressions,\\n      Statistics and Probability Letters, 33 (1997) 291-297\\n'}"
      ]
     },
     "execution_count": 5,
     "metadata": {},
     "output_type": "execute_result"
    }
   ],
   "source": [
    "housing"
   ]
  },
  {
   "cell_type": "code",
   "execution_count": 7,
   "id": "e9f3b4bc-433e-44f4-85da-876980e2b12f",
   "metadata": {},
   "outputs": [],
   "source": [
    "import pandas as pd\n",
    "df = pd.DataFrame(housing['data'],columns=housing['feature_names'])"
   ]
  },
  {
   "cell_type": "code",
   "execution_count": 8,
   "id": "6d8990a3-5072-445d-8eaa-1236f96b98e5",
   "metadata": {},
   "outputs": [
    {
     "data": {
      "text/plain": [
       "array([4.526, 3.585, 3.521, ..., 0.923, 0.847, 0.894])"
      ]
     },
     "execution_count": 8,
     "metadata": {},
     "output_type": "execute_result"
    }
   ],
   "source": [
    "housing['target']"
   ]
  },
  {
   "cell_type": "code",
   "execution_count": 9,
   "id": "9c0e26cd-4b6a-439e-9ae5-3049bebda27d",
   "metadata": {},
   "outputs": [],
   "source": [
    "df['target'] = housing['target']"
   ]
  },
  {
   "cell_type": "code",
   "execution_count": 10,
   "id": "e2dd43d1-ee3c-4afa-a262-f96030bf8343",
   "metadata": {},
   "outputs": [
    {
     "data": {
      "text/html": [
       "<div>\n",
       "<style scoped>\n",
       "    .dataframe tbody tr th:only-of-type {\n",
       "        vertical-align: middle;\n",
       "    }\n",
       "\n",
       "    .dataframe tbody tr th {\n",
       "        vertical-align: top;\n",
       "    }\n",
       "\n",
       "    .dataframe thead th {\n",
       "        text-align: right;\n",
       "    }\n",
       "</style>\n",
       "<table border=\"1\" class=\"dataframe\">\n",
       "  <thead>\n",
       "    <tr style=\"text-align: right;\">\n",
       "      <th></th>\n",
       "      <th>MedInc</th>\n",
       "      <th>HouseAge</th>\n",
       "      <th>AveRooms</th>\n",
       "      <th>AveBedrms</th>\n",
       "      <th>Population</th>\n",
       "      <th>AveOccup</th>\n",
       "      <th>Latitude</th>\n",
       "      <th>Longitude</th>\n",
       "      <th>target</th>\n",
       "    </tr>\n",
       "  </thead>\n",
       "  <tbody>\n",
       "    <tr>\n",
       "      <th>0</th>\n",
       "      <td>8.3252</td>\n",
       "      <td>41.0</td>\n",
       "      <td>6.984127</td>\n",
       "      <td>1.023810</td>\n",
       "      <td>322.0</td>\n",
       "      <td>2.555556</td>\n",
       "      <td>37.88</td>\n",
       "      <td>-122.23</td>\n",
       "      <td>4.526</td>\n",
       "    </tr>\n",
       "    <tr>\n",
       "      <th>1</th>\n",
       "      <td>8.3014</td>\n",
       "      <td>21.0</td>\n",
       "      <td>6.238137</td>\n",
       "      <td>0.971880</td>\n",
       "      <td>2401.0</td>\n",
       "      <td>2.109842</td>\n",
       "      <td>37.86</td>\n",
       "      <td>-122.22</td>\n",
       "      <td>3.585</td>\n",
       "    </tr>\n",
       "    <tr>\n",
       "      <th>2</th>\n",
       "      <td>7.2574</td>\n",
       "      <td>52.0</td>\n",
       "      <td>8.288136</td>\n",
       "      <td>1.073446</td>\n",
       "      <td>496.0</td>\n",
       "      <td>2.802260</td>\n",
       "      <td>37.85</td>\n",
       "      <td>-122.24</td>\n",
       "      <td>3.521</td>\n",
       "    </tr>\n",
       "    <tr>\n",
       "      <th>3</th>\n",
       "      <td>5.6431</td>\n",
       "      <td>52.0</td>\n",
       "      <td>5.817352</td>\n",
       "      <td>1.073059</td>\n",
       "      <td>558.0</td>\n",
       "      <td>2.547945</td>\n",
       "      <td>37.85</td>\n",
       "      <td>-122.25</td>\n",
       "      <td>3.413</td>\n",
       "    </tr>\n",
       "    <tr>\n",
       "      <th>4</th>\n",
       "      <td>3.8462</td>\n",
       "      <td>52.0</td>\n",
       "      <td>6.281853</td>\n",
       "      <td>1.081081</td>\n",
       "      <td>565.0</td>\n",
       "      <td>2.181467</td>\n",
       "      <td>37.85</td>\n",
       "      <td>-122.25</td>\n",
       "      <td>3.422</td>\n",
       "    </tr>\n",
       "  </tbody>\n",
       "</table>\n",
       "</div>"
      ],
      "text/plain": [
       "   MedInc  HouseAge  AveRooms  AveBedrms  Population  AveOccup  Latitude  \\\n",
       "0  8.3252      41.0  6.984127   1.023810       322.0  2.555556     37.88   \n",
       "1  8.3014      21.0  6.238137   0.971880      2401.0  2.109842     37.86   \n",
       "2  7.2574      52.0  8.288136   1.073446       496.0  2.802260     37.85   \n",
       "3  5.6431      52.0  5.817352   1.073059       558.0  2.547945     37.85   \n",
       "4  3.8462      52.0  6.281853   1.081081       565.0  2.181467     37.85   \n",
       "\n",
       "   Longitude  target  \n",
       "0    -122.23   4.526  \n",
       "1    -122.22   3.585  \n",
       "2    -122.24   3.521  \n",
       "3    -122.25   3.413  \n",
       "4    -122.25   3.422  "
      ]
     },
     "execution_count": 10,
     "metadata": {},
     "output_type": "execute_result"
    }
   ],
   "source": [
    "df.head()"
   ]
  },
  {
   "cell_type": "code",
   "execution_count": 11,
   "id": "2c16e26e-6119-4e21-9a54-c155cb77ce7e",
   "metadata": {},
   "outputs": [
    {
     "data": {
      "text/html": [
       "<div>\n",
       "<style scoped>\n",
       "    .dataframe tbody tr th:only-of-type {\n",
       "        vertical-align: middle;\n",
       "    }\n",
       "\n",
       "    .dataframe tbody tr th {\n",
       "        vertical-align: top;\n",
       "    }\n",
       "\n",
       "    .dataframe thead th {\n",
       "        text-align: right;\n",
       "    }\n",
       "</style>\n",
       "<table border=\"1\" class=\"dataframe\">\n",
       "  <thead>\n",
       "    <tr style=\"text-align: right;\">\n",
       "      <th></th>\n",
       "      <th>MedInc</th>\n",
       "      <th>HouseAge</th>\n",
       "      <th>AveRooms</th>\n",
       "      <th>AveBedrms</th>\n",
       "      <th>Population</th>\n",
       "      <th>AveOccup</th>\n",
       "      <th>Latitude</th>\n",
       "      <th>Longitude</th>\n",
       "      <th>target</th>\n",
       "    </tr>\n",
       "  </thead>\n",
       "  <tbody>\n",
       "    <tr>\n",
       "      <th>count</th>\n",
       "      <td>20640.000000</td>\n",
       "      <td>20640.000000</td>\n",
       "      <td>20640.000000</td>\n",
       "      <td>20640.000000</td>\n",
       "      <td>20640.000000</td>\n",
       "      <td>20640.000000</td>\n",
       "      <td>20640.000000</td>\n",
       "      <td>20640.000000</td>\n",
       "      <td>20640.000000</td>\n",
       "    </tr>\n",
       "    <tr>\n",
       "      <th>mean</th>\n",
       "      <td>3.870671</td>\n",
       "      <td>28.639486</td>\n",
       "      <td>5.429000</td>\n",
       "      <td>1.096675</td>\n",
       "      <td>1425.476744</td>\n",
       "      <td>3.070655</td>\n",
       "      <td>35.631861</td>\n",
       "      <td>-119.569704</td>\n",
       "      <td>2.068558</td>\n",
       "    </tr>\n",
       "    <tr>\n",
       "      <th>std</th>\n",
       "      <td>1.899822</td>\n",
       "      <td>12.585558</td>\n",
       "      <td>2.474173</td>\n",
       "      <td>0.473911</td>\n",
       "      <td>1132.462122</td>\n",
       "      <td>10.386050</td>\n",
       "      <td>2.135952</td>\n",
       "      <td>2.003532</td>\n",
       "      <td>1.153956</td>\n",
       "    </tr>\n",
       "    <tr>\n",
       "      <th>min</th>\n",
       "      <td>0.499900</td>\n",
       "      <td>1.000000</td>\n",
       "      <td>0.846154</td>\n",
       "      <td>0.333333</td>\n",
       "      <td>3.000000</td>\n",
       "      <td>0.692308</td>\n",
       "      <td>32.540000</td>\n",
       "      <td>-124.350000</td>\n",
       "      <td>0.149990</td>\n",
       "    </tr>\n",
       "    <tr>\n",
       "      <th>25%</th>\n",
       "      <td>2.563400</td>\n",
       "      <td>18.000000</td>\n",
       "      <td>4.440716</td>\n",
       "      <td>1.006079</td>\n",
       "      <td>787.000000</td>\n",
       "      <td>2.429741</td>\n",
       "      <td>33.930000</td>\n",
       "      <td>-121.800000</td>\n",
       "      <td>1.196000</td>\n",
       "    </tr>\n",
       "    <tr>\n",
       "      <th>50%</th>\n",
       "      <td>3.534800</td>\n",
       "      <td>29.000000</td>\n",
       "      <td>5.229129</td>\n",
       "      <td>1.048780</td>\n",
       "      <td>1166.000000</td>\n",
       "      <td>2.818116</td>\n",
       "      <td>34.260000</td>\n",
       "      <td>-118.490000</td>\n",
       "      <td>1.797000</td>\n",
       "    </tr>\n",
       "    <tr>\n",
       "      <th>75%</th>\n",
       "      <td>4.743250</td>\n",
       "      <td>37.000000</td>\n",
       "      <td>6.052381</td>\n",
       "      <td>1.099526</td>\n",
       "      <td>1725.000000</td>\n",
       "      <td>3.282261</td>\n",
       "      <td>37.710000</td>\n",
       "      <td>-118.010000</td>\n",
       "      <td>2.647250</td>\n",
       "    </tr>\n",
       "    <tr>\n",
       "      <th>max</th>\n",
       "      <td>15.000100</td>\n",
       "      <td>52.000000</td>\n",
       "      <td>141.909091</td>\n",
       "      <td>34.066667</td>\n",
       "      <td>35682.000000</td>\n",
       "      <td>1243.333333</td>\n",
       "      <td>41.950000</td>\n",
       "      <td>-114.310000</td>\n",
       "      <td>5.000010</td>\n",
       "    </tr>\n",
       "  </tbody>\n",
       "</table>\n",
       "</div>"
      ],
      "text/plain": [
       "             MedInc      HouseAge      AveRooms     AveBedrms    Population  \\\n",
       "count  20640.000000  20640.000000  20640.000000  20640.000000  20640.000000   \n",
       "mean       3.870671     28.639486      5.429000      1.096675   1425.476744   \n",
       "std        1.899822     12.585558      2.474173      0.473911   1132.462122   \n",
       "min        0.499900      1.000000      0.846154      0.333333      3.000000   \n",
       "25%        2.563400     18.000000      4.440716      1.006079    787.000000   \n",
       "50%        3.534800     29.000000      5.229129      1.048780   1166.000000   \n",
       "75%        4.743250     37.000000      6.052381      1.099526   1725.000000   \n",
       "max       15.000100     52.000000    141.909091     34.066667  35682.000000   \n",
       "\n",
       "           AveOccup      Latitude     Longitude        target  \n",
       "count  20640.000000  20640.000000  20640.000000  20640.000000  \n",
       "mean       3.070655     35.631861   -119.569704      2.068558  \n",
       "std       10.386050      2.135952      2.003532      1.153956  \n",
       "min        0.692308     32.540000   -124.350000      0.149990  \n",
       "25%        2.429741     33.930000   -121.800000      1.196000  \n",
       "50%        2.818116     34.260000   -118.490000      1.797000  \n",
       "75%        3.282261     37.710000   -118.010000      2.647250  \n",
       "max     1243.333333     41.950000   -114.310000      5.000010  "
      ]
     },
     "execution_count": 11,
     "metadata": {},
     "output_type": "execute_result"
    }
   ],
   "source": [
    "df.describe()"
   ]
  },
  {
   "cell_type": "code",
   "execution_count": 12,
   "id": "93545c6d-9a18-4cb6-bcd4-a189151852bd",
   "metadata": {},
   "outputs": [
    {
     "data": {
      "text/plain": [
       "0        4.526\n",
       "1        3.585\n",
       "2        3.521\n",
       "3        3.413\n",
       "4        3.422\n",
       "         ...  \n",
       "20635    0.781\n",
       "20636    0.771\n",
       "20637    0.923\n",
       "20638    0.847\n",
       "20639    0.894\n",
       "Name: target, Length: 20640, dtype: float64"
      ]
     },
     "execution_count": 12,
     "metadata": {},
     "output_type": "execute_result"
    }
   ],
   "source": [
    "# BAGIMLI DEGISKEN, HEDEF, TARGET, Y\n",
    "y = df['target']\n",
    "y"
   ]
  },
  {
   "cell_type": "code",
   "execution_count": 14,
   "id": "61d27dd9-d90a-42a7-989f-97d0d0c629a4",
   "metadata": {},
   "outputs": [],
   "source": [
    "# BAGIMSIZ DEGİSKENLER, FEAUTRE, X , PARAMETRE"
   ]
  },
  {
   "cell_type": "code",
   "execution_count": 15,
   "id": "dd3cb45e-805d-4a74-ba4e-331cdaa785c4",
   "metadata": {},
   "outputs": [
    {
     "data": {
      "text/html": [
       "<div>\n",
       "<style scoped>\n",
       "    .dataframe tbody tr th:only-of-type {\n",
       "        vertical-align: middle;\n",
       "    }\n",
       "\n",
       "    .dataframe tbody tr th {\n",
       "        vertical-align: top;\n",
       "    }\n",
       "\n",
       "    .dataframe thead th {\n",
       "        text-align: right;\n",
       "    }\n",
       "</style>\n",
       "<table border=\"1\" class=\"dataframe\">\n",
       "  <thead>\n",
       "    <tr style=\"text-align: right;\">\n",
       "      <th></th>\n",
       "      <th>MedInc</th>\n",
       "      <th>HouseAge</th>\n",
       "      <th>AveRooms</th>\n",
       "      <th>AveBedrms</th>\n",
       "      <th>Population</th>\n",
       "      <th>AveOccup</th>\n",
       "      <th>Latitude</th>\n",
       "      <th>Longitude</th>\n",
       "    </tr>\n",
       "  </thead>\n",
       "  <tbody>\n",
       "    <tr>\n",
       "      <th>0</th>\n",
       "      <td>8.3252</td>\n",
       "      <td>41.0</td>\n",
       "      <td>6.984127</td>\n",
       "      <td>1.023810</td>\n",
       "      <td>322.0</td>\n",
       "      <td>2.555556</td>\n",
       "      <td>37.88</td>\n",
       "      <td>-122.23</td>\n",
       "    </tr>\n",
       "    <tr>\n",
       "      <th>1</th>\n",
       "      <td>8.3014</td>\n",
       "      <td>21.0</td>\n",
       "      <td>6.238137</td>\n",
       "      <td>0.971880</td>\n",
       "      <td>2401.0</td>\n",
       "      <td>2.109842</td>\n",
       "      <td>37.86</td>\n",
       "      <td>-122.22</td>\n",
       "    </tr>\n",
       "    <tr>\n",
       "      <th>2</th>\n",
       "      <td>7.2574</td>\n",
       "      <td>52.0</td>\n",
       "      <td>8.288136</td>\n",
       "      <td>1.073446</td>\n",
       "      <td>496.0</td>\n",
       "      <td>2.802260</td>\n",
       "      <td>37.85</td>\n",
       "      <td>-122.24</td>\n",
       "    </tr>\n",
       "    <tr>\n",
       "      <th>3</th>\n",
       "      <td>5.6431</td>\n",
       "      <td>52.0</td>\n",
       "      <td>5.817352</td>\n",
       "      <td>1.073059</td>\n",
       "      <td>558.0</td>\n",
       "      <td>2.547945</td>\n",
       "      <td>37.85</td>\n",
       "      <td>-122.25</td>\n",
       "    </tr>\n",
       "    <tr>\n",
       "      <th>4</th>\n",
       "      <td>3.8462</td>\n",
       "      <td>52.0</td>\n",
       "      <td>6.281853</td>\n",
       "      <td>1.081081</td>\n",
       "      <td>565.0</td>\n",
       "      <td>2.181467</td>\n",
       "      <td>37.85</td>\n",
       "      <td>-122.25</td>\n",
       "    </tr>\n",
       "  </tbody>\n",
       "</table>\n",
       "</div>"
      ],
      "text/plain": [
       "   MedInc  HouseAge  AveRooms  AveBedrms  Population  AveOccup  Latitude  \\\n",
       "0  8.3252      41.0  6.984127   1.023810       322.0  2.555556     37.88   \n",
       "1  8.3014      21.0  6.238137   0.971880      2401.0  2.109842     37.86   \n",
       "2  7.2574      52.0  8.288136   1.073446       496.0  2.802260     37.85   \n",
       "3  5.6431      52.0  5.817352   1.073059       558.0  2.547945     37.85   \n",
       "4  3.8462      52.0  6.281853   1.081081       565.0  2.181467     37.85   \n",
       "\n",
       "   Longitude  \n",
       "0    -122.23  \n",
       "1    -122.22  \n",
       "2    -122.24  \n",
       "3    -122.25  \n",
       "4    -122.25  "
      ]
     },
     "execution_count": 15,
     "metadata": {},
     "output_type": "execute_result"
    }
   ],
   "source": [
    "X = df.drop('target',axis=1)\n",
    "X.head()"
   ]
  },
  {
   "cell_type": "code",
   "execution_count": 14,
   "id": "3df1ee0e-c60c-4c5b-a910-187c0e915d1f",
   "metadata": {},
   "outputs": [],
   "source": [
    "from sklearn.model_selection import train_test_split\n"
   ]
  },
  {
   "cell_type": "code",
   "execution_count": 16,
   "id": "13c941c9-79a9-4bc6-baf5-d6c5d57b8996",
   "metadata": {},
   "outputs": [],
   "source": [
    "X_train, X_test, y_train, y_test = train_test_split(X, y, test_size=0.20, random_state=42)"
   ]
  },
  {
   "cell_type": "code",
   "execution_count": 17,
   "id": "0eadf0b8-f0a5-43a7-916e-152969fb1c29",
   "metadata": {},
   "outputs": [
    {
     "data": {
      "text/plain": [
       "(16512, 8)"
      ]
     },
     "execution_count": 17,
     "metadata": {},
     "output_type": "execute_result"
    }
   ],
   "source": [
    "X_train.shape"
   ]
  },
  {
   "cell_type": "code",
   "execution_count": 18,
   "id": "8a641ea6-38a4-40ac-8a2e-afc166b6445b",
   "metadata": {},
   "outputs": [
    {
     "data": {
      "text/plain": [
       "(4128, 8)"
      ]
     },
     "execution_count": 18,
     "metadata": {},
     "output_type": "execute_result"
    }
   ],
   "source": [
    "X_test.shape"
   ]
  },
  {
   "cell_type": "code",
   "execution_count": 19,
   "id": "7dcd9cb5-f455-4d04-8e33-88aed7383fc1",
   "metadata": {},
   "outputs": [
    {
     "name": "stdout",
     "output_type": "stream",
     "text": [
      "------ Model Başarısı ------\n",
      "Model: Doğrusal Regresyon\n",
      "Ortalama Karesel Hata (MSE): 0.5558915986952444\n",
      "R-kare (R-squared) Değeri: 0.5757877060324508\n",
      "\n",
      "------ Gerçek Değerler ile Tahmin Edilen Değerler ------\n",
      "      Tahmin Edilen  Gerçek Değerler\n",
      "0          0.719123          0.47700\n",
      "1          1.764017          0.45800\n",
      "2          2.709659          5.00001\n",
      "3          2.838926          2.18600\n",
      "4          2.604657          2.78000\n",
      "...             ...              ...\n",
      "4123       1.991746          2.63300\n",
      "4124       2.249839          2.66800\n",
      "4125       4.468770          5.00001\n",
      "4126       1.187511          0.72300\n",
      "4127       2.009403          1.51500\n",
      "\n",
      "[4128 rows x 2 columns]\n"
     ]
    }
   ],
   "source": [
    "import numpy as np\n",
    "import pandas as pd\n",
    "from sklearn.linear_model import LinearRegression\n",
    "from sklearn.model_selection import train_test_split\n",
    "from sklearn.metrics import mean_squared_error, r2_score\n",
    "\n",
    "\n",
    "def evaluate_linear_regression(X, y):\n",
    "    model_name = \"Doğrusal Regresyon\"\n",
    "    # Veri kümesini eğitim ve test olarak ayıralım\n",
    "    X_train, X_test, y_train, y_test = train_test_split(X, y, test_size=0.2, random_state=42)\n",
    "\n",
    "    # Doğrusal regresyon modelini oluştur\n",
    "    model = LinearRegression()\n",
    "\n",
    "    # Modeli eğit\n",
    "    model.fit(X_train, y_train)\n",
    "\n",
    "    # Test verileri için tahmin yap\n",
    "    y_pred_test = model.predict(X_test)\n",
    "\n",
    "    # Ortalama Karesel Hata (Mean Squared Error)\n",
    "    mse = mean_squared_error(y_test, y_pred_test)\n",
    "\n",
    "    # R-kare (Coefficient of Determination)\n",
    "    r2 = r2_score(y_test, y_pred_test)\n",
    "\n",
    "    # Raporu yazdır\n",
    "    print(\"------ Model Başarısı ------\")\n",
    "    print(\"Model:\", model_name)\n",
    "    print(\"Ortalama Karesel Hata (MSE):\", mse)\n",
    "    print(\"R-kare (R-squared) Değeri:\", r2)\n",
    "\n",
    "    # Tahmin edilen ve gerçek değerleri pandas DataFrame olarak oluşturalım\n",
    "    result_df = pd.DataFrame({'Tahmin Edilen': y_pred_test.flatten(), 'Gerçek Değerler': y_test.values.flatten()})\n",
    "    print(\"\\n------ Gerçek Değerler ile Tahmin Edilen Değerler ------\")\n",
    "    print(result_df)\n",
    "\n",
    "# Örnek kullanım:\n",
    "evaluate_linear_regression(X, y)"
   ]
  },
  {
   "cell_type": "code",
   "execution_count": 20,
   "id": "89c4d0f9-f0c3-4ff6-88b9-2640aeff435c",
   "metadata": {},
   "outputs": [
    {
     "name": "stdout",
     "output_type": "stream",
     "text": [
      "------ Model Başarısı ------\n",
      "Model: K-En Yakın Komşu (KNN)\n",
      "Ortalama Mutlak Hata (MAE): 0.8127975600775195\n",
      "R-kare (R-squared) Değeri: 0.14631049965900345\n",
      "\n",
      "------ Gerçek Değerler ile Tahmin Edilen Değerler ------\n",
      "      Tahmin Edilen  Gerçek Değerler\n",
      "0            1.6230          0.47700\n",
      "1            1.0822          0.45800\n",
      "2            2.8924          5.00001\n",
      "3            2.2456          2.18600\n",
      "4            1.6690          2.78000\n",
      "...             ...              ...\n",
      "4123         1.9128          2.63300\n",
      "4124         2.0962          2.66800\n",
      "4125         2.5944          5.00001\n",
      "4126         1.6490          0.72300\n",
      "4127         2.0050          1.51500\n",
      "\n",
      "[4128 rows x 2 columns]\n"
     ]
    }
   ],
   "source": [
    "import numpy as np\n",
    "import pandas as pd\n",
    "from sklearn.neighbors import KNeighborsRegressor\n",
    "from sklearn.model_selection import train_test_split\n",
    "from sklearn.metrics import mean_absolute_error, r2_score\n",
    "\n",
    "\n",
    "def evaluate_knn_regression(X, y, n_neighbors=5):\n",
    "    model_name = \"K-En Yakın Komşu (KNN)\"\n",
    "    # Veri kümesini eğitim ve test olarak ayıralım\n",
    "    X_train, X_test, y_train, y_test = train_test_split(X, y, test_size=0.2, random_state=42)\n",
    "\n",
    "    # K-En Yakın Komşu modelini oluştur\n",
    "    model = KNeighborsRegressor(n_neighbors=n_neighbors)\n",
    "\n",
    "    # Modeli eğit\n",
    "    model.fit(X_train, y_train)\n",
    "\n",
    "    # Test verileri için tahmin yap\n",
    "    y_pred_test = model.predict(X_test)\n",
    "    # joblib.dump(model) export edip indirebilirm\n",
    "\n",
    "    # Ortalama Mutlak Hata (Mean Absolute Error)\n",
    "    mae = mean_absolute_error(y_test, y_pred_test)\n",
    "\n",
    "    # R-kare (Coefficient of Determination)\n",
    "    r2 = r2_score(y_test, y_pred_test)\n",
    "\n",
    "    # Raporu yazdır\n",
    "    print(\"------ Model Başarısı ------\")\n",
    "    print(\"Model:\", model_name)\n",
    "    print(\"Ortalama Mutlak Hata (MAE):\", mae)\n",
    "    print(\"R-kare (R-squared) Değeri:\", r2)\n",
    "\n",
    "    # Tahmin edilen ve gerçek değerleri pandas DataFrame olarak oluşturalım\n",
    "    result_df = pd.DataFrame({'Tahmin Edilen': y_pred_test.flatten(), 'Gerçek Değerler': y_test.values.flatten()})\n",
    "    print(\"\\n------ Gerçek Değerler ile Tahmin Edilen Değerler ------\")\n",
    "    print(result_df)\n",
    "\n",
    "# Örnek kullanım:\n",
    "evaluate_knn_regression(X, y, n_neighbors=5)"
   ]
  },
  {
   "cell_type": "code",
   "execution_count": 21,
   "id": "1c7bb321-d48f-4465-a324-ec8bceec8d0e",
   "metadata": {},
   "outputs": [
    {
     "name": "stdout",
     "output_type": "stream",
     "text": [
      "------ Model Başarısı ------\n",
      "Model: Yapay Sinir Ağları (ANN)\n",
      "Ortalama Mutlak Hata (MAE): 0.6505725637517896\n",
      "R-kare (R-squared) Değeri: 0.4559843585127632\n",
      "\n",
      "------ Gerçek Değerler ile Tahmin Edilen Değerler ------\n",
      "      Tahmin Edilen  Gerçek Değerler\n",
      "0          1.182847          0.47700\n",
      "1          1.941848          0.45800\n",
      "2          3.036933          5.00001\n",
      "3          2.825844          2.18600\n",
      "4          2.445795          2.78000\n",
      "...             ...              ...\n",
      "4123       2.364280          2.63300\n",
      "4124       2.055774          2.66800\n",
      "4125       4.514515          5.00001\n",
      "4126       2.076897          0.72300\n",
      "4127       1.894751          1.51500\n",
      "\n",
      "[4128 rows x 2 columns]\n"
     ]
    }
   ],
   "source": [
    "import numpy as np\n",
    "import pandas as pd\n",
    "from sklearn.neural_network import MLPRegressor\n",
    "from sklearn.model_selection import train_test_split\n",
    "from sklearn.metrics import mean_absolute_error, r2_score\n",
    "\n",
    "\n",
    "def evaluate_ann_regression(X, y):\n",
    "    model_name = \"Yapay Sinir Ağları (ANN)\"\n",
    "    # Veri kümesini eğitim ve test olarak ayıralım\n",
    "    X_train, X_test, y_train, y_test = train_test_split(X, y, test_size=0.2, random_state=42)\n",
    "\n",
    "    # Yapay Sinir Ağı modelini oluştur\n",
    "    model = MLPRegressor(hidden_layer_sizes=(100,), activation='relu', solver='adam', random_state=42)\n",
    "\n",
    "    # Modeli eğit\n",
    "    model.fit(X_train, y_train.ravel())\n",
    "\n",
    "    # Test verileri için tahmin yap\n",
    "    y_pred_test = model.predict(X_test)\n",
    "\n",
    "    # Ortalama Mutlak Hata (Mean Absolute Error)\n",
    "    mae = mean_absolute_error(y_test, y_pred_test)\n",
    "\n",
    "    # R-kare (Coefficient of Determination)\n",
    "    r2 = r2_score(y_test, y_pred_test)\n",
    "\n",
    "    # Raporu yazdır\n",
    "    print(\"------ Model Başarısı ------\")\n",
    "    print(\"Model:\", model_name)\n",
    "    print(\"Ortalama Mutlak Hata (MAE):\", mae)\n",
    "    print(\"R-kare (R-squared) Değeri:\", r2)\n",
    "\n",
    "    # Tahmin edilen ve gerçek değerleri pandas DataFrame olarak oluşturalım\n",
    "    result_df = pd.DataFrame({'Tahmin Edilen': y_pred_test, 'Gerçek Değerler': y_test.values.flatten()})\n",
    "    print(\"\\n------ Gerçek Değerler ile Tahmin Edilen Değerler ------\")\n",
    "    print(result_df)\n",
    "\n",
    "# Örnek kullanım:\n",
    "evaluate_ann_regression(X, y)"
   ]
  },
  {
   "cell_type": "code",
   "execution_count": 22,
   "id": "07bbd72a-0476-4df2-8c90-f1a60876d19c",
   "metadata": {},
   "outputs": [
    {
     "name": "stdout",
     "output_type": "stream",
     "text": [
      "------ Model Başarısı ------\n",
      "Model: XGBoost\n",
      "Ortalama Mutlak Hata (MAE): 0.3113019309873128\n",
      "R-kare (R-squared) Değeri: 0.828616180679985\n"
     ]
    }
   ],
   "source": [
    "import numpy as np\n",
    "import pandas as pd\n",
    "import xgboost as xgb\n",
    "from sklearn.model_selection import train_test_split\n",
    "from sklearn.metrics import mean_absolute_error, r2_score\n",
    "from xgboost import XGBRegressor\n",
    "\n",
    "model_name = \"XGBoost\"\n",
    "X_train, X_test, y_train, y_test = train_test_split(X, y, test_size=0.2, random_state=42)\n",
    "\n",
    "# XGBoost modelini oluştur\n",
    "model = xgb.XGBRegressor(random_state=42)\n",
    "# Modeli eğit\n",
    "model.fit(X_train, y_train)\n",
    "\n",
    "# Test verileri için tahmin yap\n",
    "y_pred_test = model.predict(X_test)\n",
    "\n",
    "    # Ortalama Mutlak Hata (Mean Absolute Error)\n",
    "mae = mean_absolute_error(y_test, y_pred_test)\n",
    "   # R-kare (Coefficient of Determination)\n",
    "r2 = r2_score(y_test, y_pred_test)\n",
    "\n",
    "\n",
    "# Raporu yazdır\n",
    "print(\"------ Model Başarısı ------\")\n",
    "print(\"Model:\", model_name)\n",
    "print(\"Ortalama Mutlak Hata (MAE):\", mae)\n",
    "print(\"R-kare (R-squared) Değeri:\", r2)\n"
   ]
  },
  {
   "cell_type": "code",
   "execution_count": null,
   "id": "fbb7aa93-56e2-47c8-a90a-f99ae7561be0",
   "metadata": {},
   "outputs": [
    {
     "name": "stdout",
     "output_type": "stream",
     "text": [
      "--------------------------------------------------\n",
      "Model: Doğrusal Regresyon\n",
      "Ortalama Mutlak Hata (MAE): 0.527247453830597\n",
      "R-kare (R-squared) Değeri: 0.5957702326061665\n",
      "--------------------------------------------------\n",
      "Model: K-En Yakın Komşu (KNN)\n",
      "Ortalama Mutlak Hata (MAE): 0.8217871040051679\n",
      "R-kare (R-squared) Değeri: 0.1337849088797427\n"
     ]
    }
   ],
   "source": [
    "import numpy as np\n",
    "import pandas as pd\n",
    "from sklearn.linear_model import LinearRegression\n",
    "from sklearn.neighbors import KNeighborsRegressor\n",
    "from sklearn.svm import SVR\n",
    "from sklearn.tree import DecisionTreeRegressor\n",
    "from sklearn.ensemble import RandomForestRegressor\n",
    "import xgboost as xgb\n",
    "from sklearn.model_selection import train_test_split\n",
    "from sklearn.metrics import mean_absolute_error, r2_score\n",
    "\n",
    "def evaluate_regression_algorithms(X, y):\n",
    "    algorithms = [\n",
    "        (\"Doğrusal Regresyon\", LinearRegression()),\n",
    "        (\"K-En Yakın Komşu (KNN)\", KNeighborsRegressor(n_neighbors=5)),\n",
    "        (\"Destek Vektör Makineleri (SVM)\", SVR(kernel='linear')),\n",
    "        (\"CART (Sınıflandırma ve Regresyon Ağaçları)\", DecisionTreeRegressor(random_state=42)),\n",
    "        (\"Random Forest\", RandomForestRegressor(n_estimators=100, random_state=42)),\n",
    "        (\"XGBoost\", xgb.XGBRegressor(objective='reg:squarederror', random_state=42))\n",
    "    ]\n",
    "\n",
    "    results = []  # Tüm algoritmaların sonuçlarını depolamak için boş bir liste oluşturuyoruz.\n",
    "\n",
    "    # Veri kümesini eğitim ve test olarak ayıralım\n",
    "    X_train, X_test, y_train, y_test = train_test_split(X, y, test_size=0.3, random_state=42)\n",
    "\n",
    "    for name, model in algorithms:\n",
    "        # Modeli eğit\n",
    "        model.fit(X_train, y_train.ravel())\n",
    "\n",
    "        # Test verileri için tahmin yap\n",
    "        y_pred_test = model.predict(X_test)\n",
    "\n",
    "        # Ortalama Mutlak Hata (Mean Absolute Error)\n",
    "        mae = mean_absolute_error(y_test.values.flatten(), y_pred_test)\n",
    "\n",
    "        # R-kare (Coefficient of Determination)\n",
    "        r2 = r2_score(y_test.values.flatten(), y_pred_test)\n",
    "\n",
    "        # Sonuçları listeye ekle\n",
    "        results.append((name, mae, r2))\n",
    "\n",
    "        # Raporu yazdır\n",
    "        print(\"-\"*50)\n",
    "        print(\"Model:\", name)\n",
    "        print(\"Ortalama Mutlak Hata (MAE):\", mae)\n",
    "        print(\"R-kare (R-squared) Değeri:\", r2)\n",
    "    return results\n",
    "# Örnek kullanım:\n",
    "results = evaluate_regression_algorithms(X, y)"
   ]
  },
  {
   "cell_type": "code",
   "execution_count": null,
   "id": "62a83541-bff9-4236-86fb-5787e05b6263",
   "metadata": {},
   "outputs": [],
   "source": []
  },
  {
   "cell_type": "code",
   "execution_count": null,
   "id": "69625344-1016-4b6f-a0b9-aed26248921d",
   "metadata": {},
   "outputs": [],
   "source": []
  }
 ],
 "metadata": {
  "kernelspec": {
   "display_name": "Python 3 (ipykernel)",
   "language": "python",
   "name": "python3"
  },
  "language_info": {
   "codemirror_mode": {
    "name": "ipython",
    "version": 3
   },
   "file_extension": ".py",
   "mimetype": "text/x-python",
   "name": "python",
   "nbconvert_exporter": "python",
   "pygments_lexer": "ipython3",
   "version": "3.10.9"
  }
 },
 "nbformat": 4,
 "nbformat_minor": 5
}
